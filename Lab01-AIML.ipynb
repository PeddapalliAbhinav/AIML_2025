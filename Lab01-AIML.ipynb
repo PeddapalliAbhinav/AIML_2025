{
  "cells": [
    {
      "cell_type": "markdown",
      "metadata": {
        "id": "view-in-github",
        "colab_type": "text"
      },
      "source": [
        "<a href=\"https://colab.research.google.com/github/PeddapalliAbhinav/AIML_2025/blob/main/Lab01-AIML.ipynb\" target=\"_parent\"><img src=\"https://colab.research.google.com/assets/colab-badge.svg\" alt=\"Open In Colab\"/></a>"
      ]
    },
    {
      "cell_type": "markdown",
      "id": "b50d918d",
      "metadata": {
        "id": "b50d918d"
      },
      "source": [
        "## Lab01- Implement basic data structures of Numpy, Pandas, Matplotlib and Access Data from sources\n",
        "### Dr. Kiran Eranki"
      ]
    },
    {
      "cell_type": "markdown",
      "id": "0128a62e",
      "metadata": {
        "id": "0128a62e"
      },
      "source": [
        "### Part 01: Lab Task is implement the following data structures using Numpy and Pandas.**\n",
        "1. Lists\n",
        "2. Arrays\n",
        "3. Identify their type using type()\n",
        "4. Perform mathematical operations on these datasets created - multiplication, division, poweroff\n",
        "5. Combine text with Numpy fuction to generate a textual output - ”Addition of Two: array1 +array 2\n",
        "6. Implement np.sin(), log(), log2(), np.exp())"
      ]
    },
    {
      "cell_type": "code",
      "execution_count": 1,
      "id": "53ac920a",
      "metadata": {
        "id": "53ac920a",
        "outputId": "1755585f-5dd0-4754-b0b3-ec197e5f28b2",
        "colab": {
          "base_uri": "https://localhost:8080/"
        }
      },
      "outputs": [
        {
          "output_type": "execute_result",
          "data": {
            "text/plain": [
              "array([1, 2, 3])"
            ]
          },
          "metadata": {},
          "execution_count": 1
        }
      ],
      "source": [
        "import numpy as np\n",
        "lst1=[1,2,3]\n",
        "array1 = np.array(lst1)\n",
        "array1"
      ]
    },
    {
      "cell_type": "code",
      "execution_count": null,
      "id": "e40e19b2",
      "metadata": {
        "id": "e40e19b2",
        "outputId": "1f498fc9-c1bb-4088-e582-f79bf88c53bc"
      },
      "outputs": [
        {
          "data": {
            "text/plain": [
              "list"
            ]
          },
          "execution_count": 2,
          "metadata": {},
          "output_type": "execute_result"
        }
      ],
      "source": [
        "type(lst1)"
      ]
    },
    {
      "cell_type": "code",
      "execution_count": null,
      "id": "b44611f1",
      "metadata": {
        "id": "b44611f1",
        "outputId": "9a7b470f-586e-4a46-8f8f-01988ea22d0e"
      },
      "outputs": [
        {
          "data": {
            "text/plain": [
              "numpy.ndarray"
            ]
          },
          "execution_count": 3,
          "metadata": {},
          "output_type": "execute_result"
        }
      ],
      "source": [
        "type(array1)"
      ]
    },
    {
      "cell_type": "markdown",
      "id": "3b08fedd",
      "metadata": {
        "id": "3b08fedd"
      },
      "source": [
        "***Perform Mathematical Operations on these datasets - Multiplication, Division, Poweroff***"
      ]
    },
    {
      "cell_type": "code",
      "execution_count": 3,
      "id": "25f1b5f3",
      "metadata": {
        "id": "25f1b5f3",
        "outputId": "e51e5496-6a9f-4f98-ea3d-02be17893920",
        "colab": {
          "base_uri": "https://localhost:8080/"
        }
      },
      "outputs": [
        {
          "output_type": "execute_result",
          "data": {
            "text/plain": [
              "array([3, 2, 1])"
            ]
          },
          "metadata": {},
          "execution_count": 3
        }
      ],
      "source": [
        "list2=[3,2,1]\n",
        "array2=np.array(list2)\n",
        "array2"
      ]
    },
    {
      "cell_type": "code",
      "execution_count": 4,
      "id": "cbbb5ca5",
      "metadata": {
        "id": "cbbb5ca5",
        "outputId": "0474412d-70f8-488c-907c-64be7fd3965f",
        "colab": {
          "base_uri": "https://localhost:8080/"
        }
      },
      "outputs": [
        {
          "output_type": "stream",
          "name": "stdout",
          "text": [
            "array2 multiplied by array1:  [3 4 3]\n",
            "array2 divided by array1:  [3.         1.         0.33333333]\n",
            "array2 raised to the power of array1:  [3 4 1]\n",
            " [3 2 1] raised to the power of [1 2 3]:,[3 4 1]\n"
          ]
        }
      ],
      "source": [
        "print(\"array2 multiplied by array1: \",array1*array2)\n",
        "print(\"array2 divided by array1: \",array2/array1)\n",
        "print(\"array2 raised to the power of array1: \",array2**array1)\n",
        "print(f\" {array2} raised to the power of {array1}:,{array2**array1}\")"
      ]
    },
    {
      "cell_type": "code",
      "execution_count": null,
      "id": "208e5e57",
      "metadata": {
        "collapsed": true,
        "id": "208e5e57",
        "outputId": "42def0a0-6507-4a53-be76-7db72c11b064"
      },
      "outputs": [
        {
          "name": "stdout",
          "output_type": "stream",
          "text": [
            "Sine:  [0.84147098 0.90929743 0.14112001]\n",
            "Natural logarithm:  [0.         0.69314718 1.09861229]\n",
            "Base-10 logarithm:  [0.         0.30103    0.47712125]\n",
            "Base-2 logarithm:  [0.        1.        1.5849625]\n",
            "Exponential:  [ 2.71828183  7.3890561  20.08553692]\n"
          ]
        }
      ],
      "source": [
        "# sine function\n",
        "print(\"Sine: \",np.sin(array1))\n",
        "# logarithm\n",
        "print(\"Natural logarithm: \",np.log(array1))\n",
        "print(\"Base-10 logarithm: \",np.log10(array1))\n",
        "print(\"Base-2 logarithm: \",np.log2(array1))\n",
        "# Exponential\n",
        "print(\"Exponential: \",np.exp(array1))"
      ]
    },
    {
      "cell_type": "code",
      "execution_count": 15,
      "id": "7ffe0ebb",
      "metadata": {
        "id": "7ffe0ebb",
        "outputId": "f58ccaea-8098-49b2-8b9c-aaa456d1c014",
        "colab": {
          "base_uri": "https://localhost:8080/"
        }
      },
      "outputs": [
        {
          "output_type": "stream",
          "name": "stdout",
          "text": [
            "Adding two numpy arrays {array1} and {array2} together: [4 4 4]\n"
          ]
        }
      ],
      "source": [
        "print(\"Adding two numpy arrays {array1} and {array2} together:\", array1+array2)"
      ]
    },
    {
      "cell_type": "code",
      "execution_count": 16,
      "id": "e2d45eed",
      "metadata": {
        "id": "e2d45eed",
        "outputId": "cbeb8946-383a-4c3a-9359-baec1223ce06",
        "colab": {
          "base_uri": "https://localhost:8080/"
        }
      },
      "outputs": [
        {
          "output_type": "stream",
          "name": "stdout",
          "text": [
            "Adding two numpy arrays [1 2 3] and [3 2 1] together: [4 4 4]\n"
          ]
        }
      ],
      "source": [
        "print(f\"Adding two numpy arrays {array1} and {array2} together: {array1+array2}\")"
      ]
    },
    {
      "cell_type": "markdown",
      "id": "7edeb66c",
      "metadata": {
        "id": "7edeb66c"
      },
      "source": [
        "### Part-02: Lab Task is to visualize the datasets or data using Matplotlib\n",
        "### builtin function Graphs"
      ]
    },
    {
      "cell_type": "markdown",
      "id": "cdd82673",
      "metadata": {
        "id": "cdd82673"
      },
      "source": [
        "### Generate Scatterplot\n",
        "**Let's suppose we collected age (in years), height (in cm), and weight (in kilograms)\n",
        "information from few patients visitng a clinic.**"
      ]
    },
    {
      "cell_type": "code",
      "execution_count": 17,
      "id": "70b89ee2",
      "metadata": {
        "id": "70b89ee2"
      },
      "outputs": [],
      "source": [
        "people = ['Ann','Brandon','Chen','David','Emily','Farook',\n",
        "          'Gagan','Hamish','Imran','Julio','Katherine','Lily']\n",
        "age = [21,12,32,45,37,18,28,52,5,40,48,15]\n",
        "weight = [55,35,77,68,70,60,72,69,18,65,82,48]\n",
        "height = [160,135,170,165,173,168,175,159,105,171,155,158]"
      ]
    },
    {
      "cell_type": "code",
      "execution_count": 18,
      "id": "183f441b",
      "metadata": {
        "id": "183f441b"
      },
      "outputs": [],
      "source": [
        "import matplotlib.pyplot as plt"
      ]
    },
    {
      "cell_type": "code",
      "execution_count": 22,
      "id": "d4b57ac8",
      "metadata": {
        "id": "d4b57ac8",
        "outputId": "39db8526-478c-4417-cb72-84f839ed3d5e",
        "colab": {
          "base_uri": "https://localhost:8080/",
          "height": 472
        }
      },
      "outputs": [
        {
          "output_type": "display_data",
          "data": {
            "text/plain": [
              "<Figure size 640x480 with 1 Axes>"
            ],
            "image/png": "[encoded data removed]"
          },
          "metadata": {}
        }
      ],
      "source": [
        "plt.scatter(weight, height)\n",
        "plt.title(\"Relationship between Weight and Height of Patients\")\n",
        "plt.ylabel(\"Height in Meters\")\n",
        "plt.xlabel(\"Weight of Patients in Kgs\")\n",
        "plt.show()"
      ]
    },
    {
      "cell_type": "markdown",
      "id": "de2fc765",
      "metadata": {
        "id": "de2fc765"
      },
      "source": [
        "### Generate Bar Plot"
      ]
    },
    {
      "cell_type": "code",
      "execution_count": 23,
      "id": "371361d4",
      "metadata": {
        "id": "371361d4",
        "outputId": "b37bd65e-f04a-4170-9af1-072852a4f410",
        "colab": {
          "base_uri": "https://localhost:8080/",
          "height": 418
        }
      },
      "outputs": [
        {
          "output_type": "display_data",
          "data": {
            "text/plain": [
              "<Figure size 1200x400 with 1 Axes>"
            ],
            "image/png": "[encoded data removed]"
          },
          "metadata": {}
        }
      ],
      "source": [
        "plt.figure(figsize=(12,4))\n",
        "plt.title(\"People's weight in kgs\",fontsize=16,\n",
        "          fontstyle='italic')\n",
        "\n",
        "# Main plot function 'bar'\n",
        "plt.bar(x=people,height=weight, width=0.6,\n",
        "        color='orange',edgecolor='k',alpha=0.6)\n",
        "\n",
        "plt.xlabel(\"People\",fontsize=15)\n",
        "#plt.xticks(fontsize=14,rotation=30)\n",
        "#plt.yticks(fontsize=14)\n",
        "plt.ylabel(\"Weight (in kgs)\",fontsize=15)\n",
        "plt.show()"
      ]
    },
    {
      "cell_type": "markdown",
      "id": "3495be05",
      "metadata": {
        "id": "3495be05"
      },
      "source": [
        "### Generate Histogram"
      ]
    },
    {
      "cell_type": "code",
      "execution_count": null,
      "id": "cae1cb88",
      "metadata": {
        "id": "cae1cb88",
        "outputId": "1f836967-350f-4bd8-8361-26de8a4e3109"
      },
      "outputs": [
        {
          "data": {
            "image/png": "[encoded data removed]",
            "text/plain": [
              "<Figure size 700x500 with 1 Axes>"
            ]
          },
          "metadata": {},
          "output_type": "display_data"
        }
      ],
      "source": [
        "import numpy as np\n",
        "plt.figure(figsize=(7,5))\n",
        "\n",
        "# Main plot function 'hist'\n",
        "plt.hist(weight,color='red',edgecolor='k', alpha=0.75,bins=5)\n",
        "\n",
        "plt.title(\"Histogram of patient weight\",fontsize=18)\n",
        "plt.xlabel(\"Weight in kgs\",fontsize=15)\n",
        "#plt.xticks(fontsize=15)\n",
        "#plt.yticks(fontsize=15)\n",
        "plt.show()"
      ]
    },
    {
      "cell_type": "markdown",
      "id": "d72cfb41",
      "metadata": {
        "id": "d72cfb41"
      },
      "source": [
        "### Part-03: Access Data from various sources and formats"
      ]
    },
    {
      "cell_type": "code",
      "execution_count": null,
      "id": "9985c098",
      "metadata": {
        "id": "9985c098"
      },
      "outputs": [],
      "source": [
        "import numpy as np\n",
        "import pandas as pd"
      ]
    },
    {
      "cell_type": "code",
      "execution_count": null,
      "id": "c4b282d0",
      "metadata": {
        "scrolled": true,
        "id": "c4b282d0"
      },
      "outputs": [],
      "source": [
        "df1 = pd.read_table(\"purchase.txt\")"
      ]
    },
    {
      "cell_type": "code",
      "execution_count": null,
      "id": "a6d4a7b4",
      "metadata": {
        "id": "a6d4a7b4",
        "outputId": "3376b30a-b898-45f7-f2a8-1a25a2fef0a3"
      },
      "outputs": [
        {
          "data": {
            "text/html": [
              "<div>\n",
              "<style scoped>\n",
              "    .dataframe tbody tr th:only-of-type {\n",
              "        vertical-align: middle;\n",
              "    }\n",
              "\n",
              "    .dataframe tbody tr th {\n",
              "        vertical-align: top;\n",
              "    }\n",
              "\n",
              "    .dataframe thead th {\n",
              "        text-align: right;\n",
              "    }\n",
              "</style>\n",
              "<table border=\"1\" class=\"dataframe\">\n",
              "  <thead>\n",
              "    <tr style=\"text-align: right;\">\n",
              "      <th></th>\n",
              "      <th>item Qty Price</th>\n",
              "    </tr>\n",
              "  </thead>\n",
              "  <tbody>\n",
              "    <tr>\n",
              "      <th>0</th>\n",
              "      <td>Lumber 4 10</td>\n",
              "    </tr>\n",
              "    <tr>\n",
              "      <th>1</th>\n",
              "      <td>Screws 16 5</td>\n",
              "    </tr>\n",
              "    <tr>\n",
              "      <th>2</th>\n",
              "      <td>Nails 12 2</td>\n",
              "    </tr>\n",
              "    <tr>\n",
              "      <th>3</th>\n",
              "      <td>Paint 1 259</td>\n",
              "    </tr>\n",
              "    <tr>\n",
              "      <th>4</th>\n",
              "      <td>Hammer 1 50</td>\n",
              "    </tr>\n",
              "  </tbody>\n",
              "</table>\n",
              "</div>"
            ],
            "text/plain": [
              "  item Qty Price\n",
              "0    Lumber 4 10\n",
              "1    Screws 16 5\n",
              "2     Nails 12 2\n",
              "3    Paint 1 259\n",
              "4    Hammer 1 50"
            ]
          },
          "execution_count": 27,
          "metadata": {},
          "output_type": "execute_result"
        }
      ],
      "source": [
        "df1"
      ]
    },
    {
      "cell_type": "code",
      "execution_count": null,
      "id": "e8d9521b",
      "metadata": {
        "id": "e8d9521b"
      },
      "outputs": [],
      "source": [
        "data2 = pd.read_csv(\"purchase.csv\")"
      ]
    },
    {
      "cell_type": "code",
      "execution_count": null,
      "id": "212f008e",
      "metadata": {
        "id": "212f008e",
        "outputId": "909cb4c6-edd8-47bf-c279-45e5c9817d46"
      },
      "outputs": [
        {
          "data": {
            "text/html": [
              "<div>\n",
              "<style scoped>\n",
              "    .dataframe tbody tr th:only-of-type {\n",
              "        vertical-align: middle;\n",
              "    }\n",
              "\n",
              "    .dataframe tbody tr th {\n",
              "        vertical-align: top;\n",
              "    }\n",
              "\n",
              "    .dataframe thead th {\n",
              "        text-align: right;\n",
              "    }\n",
              "</style>\n",
              "<table border=\"1\" class=\"dataframe\">\n",
              "  <thead>\n",
              "    <tr style=\"text-align: right;\">\n",
              "      <th></th>\n",
              "      <th>item</th>\n",
              "      <th>Qty</th>\n",
              "      <th>Price</th>\n",
              "    </tr>\n",
              "  </thead>\n",
              "  <tbody>\n",
              "    <tr>\n",
              "      <th>0</th>\n",
              "      <td>Lumber</td>\n",
              "      <td>4</td>\n",
              "      <td>10</td>\n",
              "    </tr>\n",
              "    <tr>\n",
              "      <th>1</th>\n",
              "      <td>Screws</td>\n",
              "      <td>16</td>\n",
              "      <td>5</td>\n",
              "    </tr>\n",
              "    <tr>\n",
              "      <th>2</th>\n",
              "      <td>Nails</td>\n",
              "      <td>12</td>\n",
              "      <td>2</td>\n",
              "    </tr>\n",
              "    <tr>\n",
              "      <th>3</th>\n",
              "      <td>Paint</td>\n",
              "      <td>1</td>\n",
              "      <td>259</td>\n",
              "    </tr>\n",
              "    <tr>\n",
              "      <th>4</th>\n",
              "      <td>Hammer</td>\n",
              "      <td>1</td>\n",
              "      <td>50</td>\n",
              "    </tr>\n",
              "  </tbody>\n",
              "</table>\n",
              "</div>"
            ],
            "text/plain": [
              "     item  Qty  Price\n",
              "0  Lumber    4     10\n",
              "1  Screws   16      5\n",
              "2   Nails   12      2\n",
              "3   Paint    1    259\n",
              "4  Hammer    1     50"
            ]
          },
          "execution_count": 31,
          "metadata": {},
          "output_type": "execute_result"
        }
      ],
      "source": [
        "data2"
      ]
    },
    {
      "cell_type": "code",
      "execution_count": null,
      "id": "1df68dba",
      "metadata": {
        "id": "1df68dba"
      },
      "outputs": [],
      "source": [
        "data3 = pd.read_excel(\"purchase.xlsx\")"
      ]
    },
    {
      "cell_type": "code",
      "execution_count": null,
      "id": "8660c8e4",
      "metadata": {
        "id": "8660c8e4",
        "outputId": "a51db092-8eec-47c5-8828-2a1ce91c40cc"
      },
      "outputs": [
        {
          "data": {
            "text/html": [
              "<div>\n",
              "<style scoped>\n",
              "    .dataframe tbody tr th:only-of-type {\n",
              "        vertical-align: middle;\n",
              "    }\n",
              "\n",
              "    .dataframe tbody tr th {\n",
              "        vertical-align: top;\n",
              "    }\n",
              "\n",
              "    .dataframe thead th {\n",
              "        text-align: right;\n",
              "    }\n",
              "</style>\n",
              "<table border=\"1\" class=\"dataframe\">\n",
              "  <thead>\n",
              "    <tr style=\"text-align: right;\">\n",
              "      <th></th>\n",
              "      <th>item</th>\n",
              "      <th>Qty</th>\n",
              "      <th>Price</th>\n",
              "    </tr>\n",
              "  </thead>\n",
              "  <tbody>\n",
              "    <tr>\n",
              "      <th>0</th>\n",
              "      <td>Lumber</td>\n",
              "      <td>4</td>\n",
              "      <td>10</td>\n",
              "    </tr>\n",
              "    <tr>\n",
              "      <th>1</th>\n",
              "      <td>Screws</td>\n",
              "      <td>16</td>\n",
              "      <td>5</td>\n",
              "    </tr>\n",
              "    <tr>\n",
              "      <th>2</th>\n",
              "      <td>Nails</td>\n",
              "      <td>12</td>\n",
              "      <td>2</td>\n",
              "    </tr>\n",
              "    <tr>\n",
              "      <th>3</th>\n",
              "      <td>Paint</td>\n",
              "      <td>1</td>\n",
              "      <td>259</td>\n",
              "    </tr>\n",
              "    <tr>\n",
              "      <th>4</th>\n",
              "      <td>Hammer</td>\n",
              "      <td>1</td>\n",
              "      <td>50</td>\n",
              "    </tr>\n",
              "  </tbody>\n",
              "</table>\n",
              "</div>"
            ],
            "text/plain": [
              "     item  Qty  Price\n",
              "0  Lumber    4     10\n",
              "1  Screws   16      5\n",
              "2   Nails   12      2\n",
              "3   Paint    1    259\n",
              "4  Hammer    1     50"
            ]
          },
          "execution_count": 33,
          "metadata": {},
          "output_type": "execute_result"
        }
      ],
      "source": [
        "data3"
      ]
    },
    {
      "cell_type": "code",
      "execution_count": null,
      "id": "f935cbd7-c6cc-4804-846d-63cac965b414",
      "metadata": {
        "id": "f935cbd7-c6cc-4804-846d-63cac965b414"
      },
      "outputs": [],
      "source": []
    }
  ],
  "metadata": {
    "kernelspec": {
      "display_name": "Python 3 (ipykernel)",
      "language": "python",
      "name": "python3"
    },
    "language_info": {
      "codemirror_mode": {
        "name": "ipython",
        "version": 3
      },
      "file_extension": ".py",
      "mimetype": "text/x-python",
      "name": "python",
      "nbconvert_exporter": "python",
      "pygments_lexer": "ipython3",
      "version": "3.12.3"
    },
    "colab": {
      "provenance": [],
      "include_colab_link": true
    }
  },
  "nbformat": 4,
  "nbformat_minor": 5
}